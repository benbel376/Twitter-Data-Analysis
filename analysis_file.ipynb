{
 "cells": [
  {
   "cell_type": "markdown",
   "id": "8a856c61",
   "metadata": {},
   "source": [
    "# Twitter Data Analysis and Modeling"
   ]
  },
  {
   "cell_type": "markdown",
   "id": "82c739b1",
   "metadata": {},
   "source": [
    "## Setting up"
   ]
  },
  {
   "cell_type": "markdown",
   "id": "23ebe324",
   "metadata": {},
   "source": [
    "importing relevant packages"
   ]
  },
  {
   "cell_type": "code",
   "execution_count": 2,
   "id": "22fb72c4",
   "metadata": {},
   "outputs": [],
   "source": [
    "import pandas as pd\n",
    "import numpy as np\n",
    "import matplotlib.pyplot as plt\n",
    "from sklearn.model_selection import train_test_split\n",
    "from sklearn.linear_model import SGDClassifier\n",
    "from sklearn.linear_model import SGDClassifier\n",
    "from sklearn.preprocessing import StandardScaler\n",
    "from sklearn.pipeline import make_pipeline\n",
    "from sklearn.feature_extraction.text import CountVectorizer\n"
   ]
  },
  {
   "cell_type": "markdown",
   "id": "cbe72606",
   "metadata": {},
   "source": [
    "importnig processing scripts"
   ]
  },
  {
   "cell_type": "code",
   "execution_count": 3,
   "id": "1a4c8418",
   "metadata": {},
   "outputs": [],
   "source": [
    "from extract_dataframe import read_json         # a function to load json_data \n",
    "from extract_dataframe import TweetDfExtractor  # and a class to extract relevant variables.    \n",
    "from clean_tweets_dataframe import Clean_Tweets        # collection of functions to for cleaning the dataframe."
   ]
  },
  {
   "cell_type": "markdown",
   "id": "aa0b9935",
   "metadata": {},
   "source": [
    "Loading JSON file, selecting relevant variables, and generating a CSV file."
   ]
  },
  {
   "cell_type": "code",
   "execution_count": 4,
   "id": "a51d517a",
   "metadata": {},
   "outputs": [
    {
     "name": "stdout",
     "output_type": "stream",
     "text": [
      "File Successfully Saved.!!!\n",
      "Please, load the CSV file\n"
     ]
    }
   ],
   "source": [
    "_, tweet_list = read_json(\"data/Economic_Twitter_Data.json\")\n",
    "tweet = TweetDfExtractor(tweet_list)\n",
    "tweet.get_tweet_df(True)  # this will also generate a CSV file.\n",
    "print(\"Please, load the CSV file\")"
   ]
  },
  {
   "cell_type": "markdown",
   "id": "83e6b174",
   "metadata": {},
   "source": [
    "Loading CSV file"
   ]
  },
  {
   "cell_type": "code",
   "execution_count": 5,
   "id": "7ea21d97",
   "metadata": {},
   "outputs": [],
   "source": [
    "tweet_df = pd.read_csv('processed_tweet_data.csv')  # loads the csv file created above."
   ]
  },
  {
   "cell_type": "markdown",
   "id": "7b9f528c",
   "metadata": {},
   "source": [
    "## Data Cleaning"
   ]
  },
  {
   "cell_type": "markdown",
   "id": "4fbc8728",
   "metadata": {},
   "source": [
    "Running common data cleaning operations from the Clean_Tweets class...!!!"
   ]
  },
  {
   "cell_type": "code",
   "execution_count": 6,
   "id": "50915cf1",
   "metadata": {},
   "outputs": [
    {
     "name": "stdout",
     "output_type": "stream",
     "text": [
      "Data cleaning in Action...!!!\n",
      "Unwanted_columns successfully removed\n",
      "Duplicate rows successfully removed\n",
      "Strings successfully converted to datetime object\n",
      "Strings successfully converted to numeric object\n",
      "Non-English languages succesfully removed\n"
     ]
    }
   ],
   "source": [
    "cleaner = Clean_Tweets(tweet_df)\n",
    "tweet_df = cleaner.drop_unwanted_column(tweet_df)\n",
    "tweet_df = cleaner.drop_duplicate(tweet_df)\n",
    "tweet_df = cleaner.convert_to_datetime(tweet_df)\n",
    "tweet_df = cleaner.convert_to_numbers(tweet_df)\n",
    "clean_tweet_df = cleaner.remove_non_english_tweets(tweet_df)"
   ]
  },
  {
   "cell_type": "markdown",
   "id": "e8247232",
   "metadata": {},
   "source": [
    "## Data Exploration and Reorganization"
   ]
  },
  {
   "cell_type": "code",
   "execution_count": 7,
   "id": "8432f477",
   "metadata": {},
   "outputs": [
    {
     "data": {
      "text/plain": [
       "(16374, 17)"
      ]
     },
     "execution_count": 7,
     "metadata": {},
     "output_type": "execute_result"
    }
   ],
   "source": [
    "clean_tweet_df.shape   # checking the number of columns and rows."
   ]
  },
  {
   "cell_type": "code",
   "execution_count": 8,
   "id": "8a5d251f",
   "metadata": {},
   "outputs": [
    {
     "name": "stdout",
     "output_type": "stream",
     "text": [
      "<class 'pandas.core.frame.DataFrame'>\n",
      "Int64Index: 16374 entries, 38 to 24622\n",
      "Data columns (total 17 columns):\n",
      " #   Column              Non-Null Count  Dtype              \n",
      "---  ------              --------------  -----              \n",
      " 0   created_at          16374 non-null  datetime64[ns, UTC]\n",
      " 1   source              16374 non-null  object             \n",
      " 2   original_text       16374 non-null  object             \n",
      " 3   clean_text          16371 non-null  object             \n",
      " 4   polarity            16374 non-null  float64            \n",
      " 5   subjectivity        16374 non-null  float64            \n",
      " 6   screen_name         16374 non-null  object             \n",
      " 7   language            16374 non-null  object             \n",
      " 8   retweet_count       16374 non-null  int64              \n",
      " 9   friends_count       16374 non-null  int64              \n",
      " 10  hashtags            16374 non-null  object             \n",
      " 11  statuses            16374 non-null  int64              \n",
      " 12  followers_count     16374 non-null  int64              \n",
      " 13  user_mentions       16374 non-null  object             \n",
      " 14  possibly_sensitive  6168 non-null   object             \n",
      " 15  favourites_count    16374 non-null  int64              \n",
      " 16  location            10671 non-null  object             \n",
      "dtypes: datetime64[ns, UTC](1), float64(2), int64(5), object(9)\n",
      "memory usage: 2.2+ MB\n"
     ]
    }
   ],
   "source": [
    "clean_tweet_df.info()  # checking available columns, their datatypes and Null count"
   ]
  },
  {
   "cell_type": "code",
   "execution_count": 9,
   "id": "d7dc6445",
   "metadata": {},
   "outputs": [
    {
     "data": {
      "text/plain": [
       "created_at            15675\n",
       "source                   53\n",
       "original_text         15082\n",
       "clean_text            15022\n",
       "polarity               1047\n",
       "subjectivity            877\n",
       "screen_name             464\n",
       "language                  1\n",
       "retweet_count          1718\n",
       "friends_count           394\n",
       "hashtags               4293\n",
       "statuses                458\n",
       "followers_count         426\n",
       "user_mentions          7939\n",
       "possibly_sensitive        2\n",
       "favourites_count        458\n",
       "location                220\n",
       "dtype: int64"
      ]
     },
     "execution_count": 9,
     "metadata": {},
     "output_type": "execute_result"
    }
   ],
   "source": [
    "clean_tweet_df.nunique() # checks unique values in each columns"
   ]
  },
  {
   "cell_type": "markdown",
   "id": "a0ab342e",
   "metadata": {},
   "source": [
    "<h3>Observation:</h3>\n",
    "    <li> There are a total of 16374 obsrvations and 17 variables </li>\n",
    "    <li> There are 464 unique users</li>\n",
    "    <li> There are 220 unique locations.</li>"
   ]
  },
  {
   "cell_type": "code",
   "execution_count": null,
   "id": "761534c3",
   "metadata": {},
   "outputs": [],
   "source": [
    "clean_tweet_df.head()  #checking the top 6 rows."
   ]
  },
  {
   "cell_type": "code",
   "execution_count": 10,
   "id": "d7e2c464",
   "metadata": {},
   "outputs": [
    {
     "data": {
      "text/html": [
       "<div>\n",
       "<style scoped>\n",
       "    .dataframe tbody tr th:only-of-type {\n",
       "        vertical-align: middle;\n",
       "    }\n",
       "\n",
       "    .dataframe tbody tr th {\n",
       "        vertical-align: top;\n",
       "    }\n",
       "\n",
       "    .dataframe thead th {\n",
       "        text-align: right;\n",
       "    }\n",
       "</style>\n",
       "<table border=\"1\" class=\"dataframe\">\n",
       "  <thead>\n",
       "    <tr style=\"text-align: right;\">\n",
       "      <th></th>\n",
       "      <th>polarity</th>\n",
       "      <th>subjectivity</th>\n",
       "      <th>retweet_count</th>\n",
       "      <th>friends_count</th>\n",
       "      <th>statuses</th>\n",
       "      <th>followers_count</th>\n",
       "      <th>favourites_count</th>\n",
       "    </tr>\n",
       "  </thead>\n",
       "  <tbody>\n",
       "    <tr>\n",
       "      <th>count</th>\n",
       "      <td>16374.000000</td>\n",
       "      <td>16374.000000</td>\n",
       "      <td>16374.000000</td>\n",
       "      <td>16374.000000</td>\n",
       "      <td>1.637400e+04</td>\n",
       "      <td>1.637400e+04</td>\n",
       "      <td>16374.000000</td>\n",
       "    </tr>\n",
       "    <tr>\n",
       "      <th>mean</th>\n",
       "      <td>0.083105</td>\n",
       "      <td>0.295141</td>\n",
       "      <td>627.341151</td>\n",
       "      <td>1337.912056</td>\n",
       "      <td>4.503068e+04</td>\n",
       "      <td>5.359397e+04</td>\n",
       "      <td>22503.216563</td>\n",
       "    </tr>\n",
       "    <tr>\n",
       "      <th>std</th>\n",
       "      <td>0.271508</td>\n",
       "      <td>0.314911</td>\n",
       "      <td>7104.387606</td>\n",
       "      <td>2975.315626</td>\n",
       "      <td>1.473958e+05</td>\n",
       "      <td>4.328630e+05</td>\n",
       "      <td>49450.473604</td>\n",
       "    </tr>\n",
       "    <tr>\n",
       "      <th>min</th>\n",
       "      <td>-1.000000</td>\n",
       "      <td>0.000000</td>\n",
       "      <td>0.000000</td>\n",
       "      <td>0.000000</td>\n",
       "      <td>1.000000e+00</td>\n",
       "      <td>0.000000e+00</td>\n",
       "      <td>0.000000</td>\n",
       "    </tr>\n",
       "    <tr>\n",
       "      <th>25%</th>\n",
       "      <td>0.000000</td>\n",
       "      <td>0.000000</td>\n",
       "      <td>0.000000</td>\n",
       "      <td>113.000000</td>\n",
       "      <td>1.610000e+03</td>\n",
       "      <td>1.120000e+02</td>\n",
       "      <td>542.000000</td>\n",
       "    </tr>\n",
       "    <tr>\n",
       "      <th>50%</th>\n",
       "      <td>0.000000</td>\n",
       "      <td>0.233333</td>\n",
       "      <td>2.000000</td>\n",
       "      <td>437.000000</td>\n",
       "      <td>7.322000e+03</td>\n",
       "      <td>5.430000e+02</td>\n",
       "      <td>4295.000000</td>\n",
       "    </tr>\n",
       "    <tr>\n",
       "      <th>75%</th>\n",
       "      <td>0.200000</td>\n",
       "      <td>0.500000</td>\n",
       "      <td>34.000000</td>\n",
       "      <td>1433.000000</td>\n",
       "      <td>3.159900e+04</td>\n",
       "      <td>2.131000e+03</td>\n",
       "      <td>20269.000000</td>\n",
       "    </tr>\n",
       "    <tr>\n",
       "      <th>max</th>\n",
       "      <td>1.000000</td>\n",
       "      <td>1.000000</td>\n",
       "      <td>434379.000000</td>\n",
       "      <td>41866.000000</td>\n",
       "      <td>2.307455e+06</td>\n",
       "      <td>6.027402e+06</td>\n",
       "      <td>529419.000000</td>\n",
       "    </tr>\n",
       "  </tbody>\n",
       "</table>\n",
       "</div>"
      ],
      "text/plain": [
       "           polarity  subjectivity  retweet_count  friends_count      statuses  \\\n",
       "count  16374.000000  16374.000000   16374.000000   16374.000000  1.637400e+04   \n",
       "mean       0.083105      0.295141     627.341151    1337.912056  4.503068e+04   \n",
       "std        0.271508      0.314911    7104.387606    2975.315626  1.473958e+05   \n",
       "min       -1.000000      0.000000       0.000000       0.000000  1.000000e+00   \n",
       "25%        0.000000      0.000000       0.000000     113.000000  1.610000e+03   \n",
       "50%        0.000000      0.233333       2.000000     437.000000  7.322000e+03   \n",
       "75%        0.200000      0.500000      34.000000    1433.000000  3.159900e+04   \n",
       "max        1.000000      1.000000  434379.000000   41866.000000  2.307455e+06   \n",
       "\n",
       "       followers_count  favourites_count  \n",
       "count     1.637400e+04      16374.000000  \n",
       "mean      5.359397e+04      22503.216563  \n",
       "std       4.328630e+05      49450.473604  \n",
       "min       0.000000e+00          0.000000  \n",
       "25%       1.120000e+02        542.000000  \n",
       "50%       5.430000e+02       4295.000000  \n",
       "75%       2.131000e+03      20269.000000  \n",
       "max       6.027402e+06     529419.000000  "
      ]
     },
     "execution_count": 10,
     "metadata": {},
     "output_type": "execute_result"
    }
   ],
   "source": [
    "clean_tweet_df.describe()   # summarizing numerical columns."
   ]
  },
  {
   "cell_type": "markdown",
   "id": "27eea142",
   "metadata": {},
   "source": [
    "<h3>Observation:</h3>\n",
    "    <li>75% of polarity values are below or equal to 0.2, which suggests negative polarity</li>\n",
    "    <li>75% of subjectivity values are below or equal to 0.5, which suggests prevalence of opinions rather than facts</li>"
   ]
  },
  {
   "cell_type": "markdown",
   "id": "335f1add",
   "metadata": {},
   "source": [
    "selection and reorganization of variables"
   ]
  },
  {
   "cell_type": "code",
   "execution_count": 38,
   "id": "ce111fa8",
   "metadata": {},
   "outputs": [
    {
     "name": "stdout",
     "output_type": "stream",
     "text": [
      "(16374, 17)\n",
      "(16374, 13)\n",
      "(10669, 13)\n"
     ]
    }
   ],
   "source": [
    "# selecting only the relevant variables for further analysis\n",
    "sho_tweet_df = clean_tweet_df.drop(['original_text', 'source', 'user_mentions', 'possibly_sensitive'], axis=1)\n",
    "loc_tweet_df = sho_tweet_df.dropna() # droping rows with null values\n",
    "\n",
    "#resetting indexes\n",
    "sho_tweet_df = sho_tweet_df.reset_index();\n",
    "sho_tweet_df = sho_tweet_df.drop(columns=['index'])\n",
    "\n",
    "loc_tweet_df = loc_tweet_df.reset_index();\n",
    "loc_tweet_df = loc_tweet_df.drop(columns=['index'])\n",
    "\n",
    "print(clean_tweet_df.shape)\n",
    "print(sho_tweet_df.shape)\n",
    "print(loc_tweet_df.shape)"
   ]
  },
  {
   "cell_type": "markdown",
   "id": "296cea0e",
   "metadata": {},
   "source": [
    "creating a new variable: sentiment"
   ]
  },
  {
   "cell_type": "code",
   "execution_count": 14,
   "id": "f54f8177",
   "metadata": {},
   "outputs": [],
   "source": [
    "def sentiment_group (p): \n",
    "    if p > 0:\n",
    "        return 'positive'\n",
    "    elif p < 0:\n",
    "        return 'negative'\n",
    "    else:\n",
    "        return 'neutral'"
   ]
  },
  {
   "cell_type": "code",
   "execution_count": 15,
   "id": "fb4f5b95",
   "metadata": {},
   "outputs": [],
   "source": [
    "sentiment = pd.Series([sentiment_group(row_val) for row_val in list(loc_tweet_df['polarity'])])\n",
    "\n",
    "\n"
   ]
  },
  {
   "cell_type": "code",
   "execution_count": 39,
   "id": "caa931ae",
   "metadata": {},
   "outputs": [],
   "source": [
    "sho_tweet_df = pd.concat([sho_tweet_df, sentiment.rename(\"sentiment\")], axis=1)\n",
    "loc_tweet_df = pd.concat([loc_tweet_df, sentiment.rename(\"sentiment\")], axis=1)\n",
    "\n"
   ]
  },
  {
   "cell_type": "markdown",
   "id": "f42ea042",
   "metadata": {},
   "source": [
    "### Analysis and Visualization\n"
   ]
  },
  {
   "cell_type": "markdown",
   "id": "24f36096",
   "metadata": {},
   "source": [
    "Location based explorations"
   ]
  },
  {
   "cell_type": "code",
   "execution_count": null,
   "id": "5decd701",
   "metadata": {},
   "outputs": [],
   "source": [
    "plt.scatter(df.retweet_count, df.favorite_count)"
   ]
  },
  {
   "cell_type": "code",
   "execution_count": 24,
   "id": "1b142eff",
   "metadata": {},
   "outputs": [
    {
     "name": "stdout",
     "output_type": "stream",
     "text": [
      "\n",
      "tweet_count summary by african countries\n",
      "\n",
      "\n",
      "          places  tweet_count  percentage\n",
      "2         Kenya          133         0.8\n",
      "0  South Africa           93         0.6\n",
      "1       Namibia           41         0.2\n",
      "3     Mauritius           25         0.2 \n",
      "\n",
      "tweet count summary by top 10 global countries\n",
      "\n",
      "            places  tweet_count  percentage\n",
      "0            India          518         3.1\n",
      "1    United States          254         1.5\n",
      "2        Sri Lanka          228         1.4\n",
      "3  London, England          195         1.2\n",
      "4           Canada          193         1.2\n",
      "5        New Delhi          172         1.0\n",
      "6           Mumbai          144         0.9\n",
      "7             Mars          143         0.9\n",
      "8            Kenya          133         0.8\n",
      "9   Chennai, India          113         0.7\n"
     ]
    }
   ],
   "source": [
    "# loading countries basic information module and extracting african countries\n",
    "from countries_info import countries\n",
    "african_countries = []\n",
    "for item in countries:\n",
    "    if item['continent'] == 'Africa':\n",
    "        african_countries.append(item['name'])\n",
    "        african_countries.append(item['capital'])\n",
    "    \n",
    "\n",
    "# extracting countries from africa \n",
    "ava_countries = {}\n",
    "for item in clean_tweet_df.location:\n",
    "    if item in african_countries:\n",
    "        if item not in ava_countries:\n",
    "            ava_countries[item] = 1\n",
    "        else:\n",
    "            ava_countries[item] = ava_countries[item]+1\n",
    "\n",
    "print(\"\\ntweet_count summary by african countries\\n\")\n",
    "# the count of tweets in association with each african countries.            \n",
    "afr_df = pd.DataFrame ({ 'places': ava_countries.keys(), 'tweet_count': ava_countries.values()})\n",
    "afr_df.sort_values(by=['tweet_count'], inplace=True, ascending = False)\n",
    "afr_df['percentage'] = ((afr_df['tweet_count']/loc_tweet_df.shape[0])*100).round(1)\n",
    "print(\"\\n\",afr_df, \"\\n\")\n",
    "\n",
    "# the tweet dataframe filtered by african countries\n",
    "afr_list = list(ava_countries.keys())\n",
    "afr_tweets_df = loc_tweet_df[loc_tweet_df['location'].isin(afr_list)]\n",
    "\n",
    "print(\"tweet count summary by top 10 global countries\\n\")\n",
    "\n",
    "top_loc = loc_tweet_df.groupby(['location']).size().sort_values(ascending=False).to_frame().reset_index().head(10)\n",
    "top_loc.columns = ['places', 'tweet_count']\n",
    "top_loc['percentage'] = ((top_loc['tweet_count']/loc_tweet_df.shape[0])*100).round(1)\n",
    "\n",
    "print(top_loc)\n",
    "    \n"
   ]
  },
  {
   "cell_type": "markdown",
   "id": "e0a8ace1",
   "metadata": {},
   "source": [
    "<h3>Observations:</h3>\n",
    "    <li> The majority of tweets are not associated with locations</li> \n",
    "    <li> Only four african countries were associated with some tweets: Kenya, South Africa, Namibia, Mauritius</li>\n",
    "    <li> In general India is the most mentioned location, by about 3.1% of the total tweets</li>"
   ]
  },
  {
   "cell_type": "code",
   "execution_count": 25,
   "id": "f7e5de82",
   "metadata": {},
   "outputs": [
    {
     "data": {
      "image/png": "[encoded data removed]",
      "text/plain": [
       "<Figure size 1080x360 with 1 Axes>"
      ]
     },
     "metadata": {
      "needs_background": "light"
     },
     "output_type": "display_data"
    }
   ],
   "source": [
    "labels = list(top_loc['places'])\n",
    "values = list(top_loc['tweet_count'])\n",
    "\n",
    "fig = plt.figure(figsize = (15, 5))\n",
    " \n",
    "# creating the bar plot\n",
    "plt.bar(labels, values, color ='purple',\n",
    "        width = 0.4)\n",
    " \n",
    "plt.xlabel(\"Locations\")\n",
    "plt.ylabel(\"Tweet Count\")\n",
    "plt.title(\"Tweets associated with locations\")\n",
    "plt.show()\n"
   ]
  },
  {
   "cell_type": "markdown",
   "id": "15b4d0a2",
   "metadata": {},
   "source": [
    "exploring the sentiment in africa"
   ]
  },
  {
   "cell_type": "code",
   "execution_count": 27,
   "id": "1899ea7d",
   "metadata": {},
   "outputs": [
    {
     "name": "stdout",
     "output_type": "stream",
     "text": [
      "        location sentiment  count\n",
      "0          Kenya  negative     12\n",
      "1          Kenya   neutral     76\n",
      "2          Kenya  positive     45\n",
      "3      Mauritius  negative      3\n",
      "4      Mauritius   neutral     16\n",
      "5      Mauritius  positive      6\n",
      "6        Namibia  negative      1\n",
      "7        Namibia   neutral     30\n",
      "8        Namibia  positive     10\n",
      "9   South Africa  negative     15\n",
      "10  South Africa   neutral     61\n",
      "11  South Africa  positive     17\n"
     ]
    }
   ],
   "source": [
    "gr_afr = afr_tweets_df.groupby(['location', 'sentiment']).size().to_frame().reset_index()\n",
    "gr_afr.columns=['location','sentiment', 'count']\n",
    "print(gr_afr)\n",
    "# grouping by country and sentiment\n",
    "#afr_tweets_df.groupby(['location', 'sentiment']).size().groupby(level=1).max() # grouping by country and sentiment\n"
   ]
  },
  {
   "cell_type": "markdown",
   "id": "09935b1f",
   "metadata": {},
   "source": [
    "<h3>Observations:</h3>\n",
    "    <li> The majority of tweets associated with african locations have neutral sentiment</li> \n",
    "    <li> tweets associated with sourth africa have the largest number of negative sentiment tweets</li>"
   ]
  },
  {
   "cell_type": "code",
   "execution_count": 36,
   "id": "a5e99d12",
   "metadata": {},
   "outputs": [
    {
     "name": "stdout",
     "output_type": "stream",
     "text": [
      "           location sentiment  count\n",
      "0            Canada  negative     56\n",
      "1            Canada   neutral     65\n",
      "2            Canada  positive     72\n",
      "3    Chennai, India  negative     12\n",
      "4    Chennai, India   neutral     55\n",
      "5    Chennai, India  positive     46\n",
      "6             India  negative     66\n",
      "7             India   neutral    278\n",
      "8             India  positive    174\n",
      "9             Kenya  negative     12\n",
      "10            Kenya   neutral     76\n",
      "11            Kenya  positive     45\n",
      "12  London, England  negative     34\n",
      "13  London, England   neutral     73\n",
      "14  London, England  positive     88\n",
      "15             Mars  negative     18\n",
      "16             Mars   neutral     48\n",
      "17             Mars  positive     77\n",
      "18           Mumbai  negative     21\n",
      "19           Mumbai   neutral     73\n",
      "20           Mumbai  positive     50\n",
      "21        New Delhi  negative     30\n",
      "22        New Delhi   neutral     94\n",
      "23        New Delhi  positive     48\n",
      "24        Sri Lanka  negative     23\n",
      "25        Sri Lanka   neutral    152\n",
      "26        Sri Lanka  positive     53\n",
      "27    United States  negative     41\n",
      "28    United States   neutral    134\n",
      "29    United States  positive     79\n"
     ]
    }
   ],
   "source": [
    "#filtering dataframe by top locations\n",
    "top_loc_list = list(top_loc['places'])\n",
    "top_loc_tweets_df = loc_tweet_df[loc_tweet_df['location'].isin(top_loc_list)]\n",
    "\n",
    "#grouping by top locations and sentiment\n",
    "gr_all = top_loc_tweets_df.groupby(['location', 'sentiment']).size().to_frame().reset_index()\n",
    "gr_all.columns=['location','sentiment', 'count']\n",
    "print(gr_all)"
   ]
  },
  {
   "cell_type": "markdown",
   "id": "21c5d05a",
   "metadata": {},
   "source": [
    "<h3>Observations:</h3>\n",
    "    <li> The majority of tweets associated with locations have neutral or positive sentiment</li> \n",
    "    <li> tweets associated with canada have relatively the largest number of negative sentiment tweets followed by India</li>"
   ]
  },
  {
   "cell_type": "code",
   "execution_count": 41,
   "id": "12d049f1",
   "metadata": {},
   "outputs": [
    {
     "data": {
      "image/png": "[encoded data removed]",
      "text/plain": [
       "<Figure size 1080x360 with 1 Axes>"
      ]
     },
     "metadata": {
      "needs_background": "light"
     },
     "output_type": "display_data"
    }
   ],
   "source": [
    "\n",
    "\n",
    "positive = len(sho_tweet_df[sho_tweet_df['sentiment'] == \"positive\"])\n",
    "negative = len(sho_tweet_df[sho_tweet_df['sentiment'] == \"negative\"])\n",
    "neutral = len(sho_tweet_df[sho_tweet_df['sentiment'] == \"neutral\"])\n",
    "\n",
    "labels = ['neutral', 'positive', 'negative']\n",
    "values = [negative, positive, neutral]\n",
    "\n",
    "fig = plt.figure(figsize = (15, 5))\n",
    " \n",
    "# creating the bar plot\n",
    "plt.bar(labels, values, color ='orange',\n",
    "        width = 0.4)\n",
    " \n",
    "plt.xlabel(\"Sentiment\")\n",
    "plt.ylabel(\"Tweet Count\")\n",
    "plt.title(\"Tweets associated with Sentiment\")\n",
    "plt.show()"
   ]
  },
  {
   "cell_type": "code",
   "execution_count": null,
   "id": "8c85b16e",
   "metadata": {},
   "outputs": [],
   "source": []
  },
  {
   "cell_type": "code",
   "execution_count": 42,
   "id": "2f9f4960",
   "metadata": {},
   "outputs": [
    {
     "data": {
      "text/plain": [
       "sentiment\n",
       "negative    1686\n",
       "neutral     5150\n",
       "positive    3832\n",
       "Name: clean_text, dtype: int64"
      ]
     },
     "execution_count": 42,
     "metadata": {},
     "output_type": "execute_result"
    }
   ],
   "source": [
    "sho_tweet_df.groupby('sentiment')['clean_text'].count()"
   ]
  },
  {
   "cell_type": "markdown",
   "id": "d82b0a37",
   "metadata": {},
   "source": [
    "## Sentiment analysis and modeling"
   ]
  },
  {
   "cell_type": "code",
   "execution_count": 45,
   "id": "69e6bc04",
   "metadata": {},
   "outputs": [
    {
     "data": {
      "text/plain": [
       "16374"
      ]
     },
     "execution_count": 45,
     "metadata": {},
     "output_type": "execute_result"
    }
   ],
   "source": [
    "len(sho_tweet_df['polarity'])"
   ]
  },
  {
   "cell_type": "code",
   "execution_count": 46,
   "id": "c784b8e1",
   "metadata": {},
   "outputs": [
    {
     "data": {
      "text/plain": [
       "(11224, 14)"
      ]
     },
     "execution_count": 46,
     "metadata": {},
     "output_type": "execute_result"
    }
   ],
   "source": [
    "sho_tweet_df = sho_tweet_df.drop(sho_tweet_df[sho_tweet_df.sentiment == 'neutral'].index)\n",
    "sho_tweet_df = sho_tweet_df.reset_index();\n",
    "sho_tweet_df = sho_tweet_df.drop(columns=['index'])\n",
    "sho_tweet_df.shape"
   ]
  },
  {
   "cell_type": "code",
   "execution_count": 47,
   "id": "cb1bbb7d",
   "metadata": {},
   "outputs": [],
   "source": [
    "valueArray = pd.Series([1 if row_val == 'positive' else 0 for row_val in sho_tweet_df['sentiment']])"
   ]
  },
  {
   "cell_type": "code",
   "execution_count": 48,
   "id": "bba73e59",
   "metadata": {},
   "outputs": [
    {
     "data": {
      "text/plain": [
       "(11224, 15)"
      ]
     },
     "execution_count": 48,
     "metadata": {},
     "output_type": "execute_result"
    }
   ],
   "source": [
    "sho_tweet_df['valueArray'] = valueArray\n",
    "sho_tweet_df.shape"
   ]
  },
  {
   "cell_type": "code",
   "execution_count": 49,
   "id": "9ed4f300",
   "metadata": {},
   "outputs": [],
   "source": [
    "X = sho_tweet_df['clean_text']\n",
    "y = sho_tweet_df['valueArray']"
   ]
  },
  {
   "cell_type": "code",
   "execution_count": 50,
   "id": "04a5f965",
   "metadata": {},
   "outputs": [],
   "source": [
    "X_train, X_test, y_train, y_test = train_test_split(X, y, test_size=0.25, random_state=42)"
   ]
  },
  {
   "cell_type": "code",
   "execution_count": 51,
   "id": "5a2f9976",
   "metadata": {},
   "outputs": [
    {
     "name": "stdout",
     "output_type": "stream",
     "text": [
      "8418\n",
      "2806\n",
      "8418\n",
      "2806\n"
     ]
    }
   ],
   "source": [
    "print(X_train.size)\n",
    "print(X_test.size)\n",
    "print(y_train.size)\n",
    "print(y_test.size)"
   ]
  },
  {
   "cell_type": "code",
   "execution_count": 52,
   "id": "387ca2ef",
   "metadata": {},
   "outputs": [],
   "source": [
    "count_vect = CountVectorizer()\n",
    "X_train = X_train.replace(np.nan, '', regex=True)\n",
    "X_train_counts = count_vect.fit_transform(X_train)\n",
    "X_train_counts = X_train_counts.toarray()"
   ]
  },
  {
   "cell_type": "code",
   "execution_count": 53,
   "id": "2fab7925",
   "metadata": {},
   "outputs": [],
   "source": [
    "y_train = y_train.fillna(0)"
   ]
  },
  {
   "cell_type": "code",
   "execution_count": 54,
   "id": "b441acbf",
   "metadata": {},
   "outputs": [],
   "source": [
    "# scaling the input\n",
    "clf = make_pipeline(StandardScaler(), SGDClassifier(max_iter=9000, tol=1e-2))"
   ]
  },
  {
   "cell_type": "code",
   "execution_count": null,
   "id": "fdb54514",
   "metadata": {},
   "outputs": [],
   "source": [
    "clf.fit(X_train_counts, y_train)"
   ]
  },
  {
   "cell_type": "code",
   "execution_count": null,
   "id": "53e5f5ee",
   "metadata": {},
   "outputs": [],
   "source": [
    "X_test = X_test.replace(np.nan, '', regex=True)\n",
    "# use transform not fit_transform\n",
    "X_test_counts = count_vect.transform(X_test)\n",
    "X_test_counts = X_test_counts.toarray()\n",
    "# prediction = clf.prevaluedict(X_test_counts)\n",
    "prediction = clf.predict(X_test_counts)"
   ]
  },
  {
   "cell_type": "code",
   "execution_count": null,
   "id": "b8f36e30",
   "metadata": {},
   "outputs": [],
   "source": [
    "# making prediction\n",
    "prediction = clf.predict(X_test_counts)"
   ]
  },
  {
   "cell_type": "code",
   "execution_count": null,
   "id": "6fdd13ea",
   "metadata": {},
   "outputs": [],
   "source": [
    "np.mean(prediction == y_test)"
   ]
  },
  {
   "cell_type": "code",
   "execution_count": null,
   "id": "9f9c427b",
   "metadata": {},
   "outputs": [],
   "source": []
  }
 ],
 "metadata": {
  "kernelspec": {
   "display_name": "Python 3 (ipykernel)",
   "language": "python",
   "name": "python3"
  },
  "language_info": {
   "codemirror_mode": {
    "name": "ipython",
    "version": 3
   },
   "file_extension": ".py",
   "mimetype": "text/x-python",
   "name": "python",
   "nbconvert_exporter": "python",
   "pygments_lexer": "ipython3",
   "version": "3.9.1"
  }
 },
 "nbformat": 4,
 "nbformat_minor": 5
}
